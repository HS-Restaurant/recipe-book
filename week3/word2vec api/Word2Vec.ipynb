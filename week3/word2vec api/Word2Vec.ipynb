{
 "cells": [
  {
   "cell_type": "markdown",
   "id": "e4420c15",
   "metadata": {},
   "source": [
    "# Word2Vec Deep Learning Restapi"
   ]
  },
  {
   "cell_type": "markdown",
   "id": "e65d4552",
   "metadata": {},
   "source": [
    "- with pre-trained deep learning model "
   ]
  },
  {
   "cell_type": "markdown",
   "id": "4dece6e6",
   "metadata": {},
   "source": [
    "# Word2Vec이란?\n",
    "- 기본적으로 단어 임베딩은 벡터가 단어를 의미 하도록 단일 단어에 각각 단어에 대응하게 벡터를 만드는것\n",
    "- 단어의 뜻을 숫자에 넘기는 작업\n",
    "- king - queen = boy — girl. \n",
    "- word2vec은 recommand engines chatbots 에 사용중!!\n",
    "\n",
    "# 단어 임베딩은 그럼 어떻게 하느냐?\n",
    "- 신경명 훈련을 하여서 생성됨\n",
    "- 다른 단어 옆에 나타는 단어를 예측하는 모델에 우리의 단어를 넣으면 vector가 예측 되는 방식\n",
    "- 우리는 GOOGLE에서 제공하는 WORD2VEC 모델 사용해볼것!(pretrained 모델)\n",
    "\n",
    "# 우리가 직접 안 만들고?\n",
    "- 대기업의 석학 박사의 맛이 최고다.....?\n",
    "\n",
    "# 더 자세한 word2 vec 은 \n",
    "- https://wikidocs.net/22660 참고 해주세요~~\n",
    "    "
   ]
  },
  {
   "cell_type": "markdown",
   "id": "434668e5",
   "metadata": {},
   "source": [
    "---\n",
    "# Python 환경 설정\n",
    "- 환경은 항상 새로 파주자\n",
    "- requirement.txt 생성으로 남들을 위해 우리의 python 환경을 좀더 쉽게 관리하기 위해\n",
    "\n",
    "### \n",
    "- pip3 install virtualenv\n",
    "- virtualenv -p python3 venv\n",
    "- virtualenv -p python3.8 venv\n",
    "\n",
    "### 가동\n",
    "- source venv/bin/activate\n",
    "- deactivate"
   ]
  },
  {
   "cell_type": "code",
   "execution_count": null,
   "id": "f979f89c",
   "metadata": {},
   "outputs": [],
   "source": [
    "- https://fasttext.cc/docs/en/crawl-vectors.html"
   ]
  },
  {
   "cell_type": "markdown",
   "id": "51965677",
   "metadata": {},
   "source": [
    "# 한국어 버전 word2vec\n",
    "- wget https://dl.fbaipublicfiles.com/fasttext/vectors-crawl/cc.ko.300.bin.gz"
   ]
  },
  {
   "cell_type": "code",
   "execution_count": null,
   "id": "ad8ad9c0",
   "metadata": {},
   "outputs": [],
   "source": [
    "- gunzip file.gz"
   ]
  },
  {
   "cell_type": "markdown",
   "id": "ed6ef2d9",
   "metadata": {},
   "source": [
    "# 모듈 설치\n",
    "- pip install gensim flask 같이 해주자"
   ]
  },
  {
   "cell_type": "markdown",
   "id": "9b563bba",
   "metadata": {},
   "source": [
    "# 우리가 설치한 파일 freeze로 requirements.txt에 저장\n",
    "-  pip3 freeze > requirements.txt\n"
   ]
  },
  {
   "cell_type": "markdown",
   "id": "7b8988a7",
   "metadata": {},
   "source": [
    "----"
   ]
  },
  {
   "cell_type": "code",
   "execution_count": null,
   "id": "cbcd1a73",
   "metadata": {},
   "outputs": [],
   "source": [
    "# flask?\n",
    "# app.py\n",
    "from flask import Flask                                                                                                \n",
    "    app = Flask(__name__)\n",
    "    @app.route('/')\n",
    "    def hello():\n",
    "        return 'Hello, My First Flask!'\n",
    "# flask run"
   ]
  },
  {
   "cell_type": "code",
   "execution_count": 14,
   "id": "df33ff47",
   "metadata": {},
   "outputs": [
    {
     "ename": "SyntaxError",
     "evalue": "invalid syntax (3364473323.py, line 2)",
     "output_type": "error",
     "traceback": [
      "\u001b[0;36m  Input \u001b[0;32mIn [14]\u001b[0;36m\u001b[0m\n\u001b[0;31m    - touch model.py\u001b[0m\n\u001b[0m            ^\u001b[0m\n\u001b[0;31mSyntaxError\u001b[0m\u001b[0;31m:\u001b[0m invalid syntax\n"
     ]
    }
   ],
   "source": [
    "# 모델을 만들어 보자\n",
    "- touch model.py\n",
    "\n",
    "- from gensim import models\n",
    "\n",
    "- ko_model = models.fasttext.load_facebook_model('cc.ko.300.bin')\n",
    "\n",
    "# 예시 ! \n",
    "for w, sim in m_fasttext.wv.most_similar('파이썬', 10):\n",
    "    print(f'{w}: {sim}')\n"
   ]
  },
  {
   "cell_type": "code",
   "execution_count": null,
   "id": "3a99d82e",
   "metadata": {},
   "outputs": [],
   "source": [
    "print(f\"'아이언맨'과 '헐크'의 유사도: {m_fasttext.similarity('아이언맨', '헐크')}\")\n",
    "print(f\"'아이언맨'과 '스파이더맨'의 유사도: {m_fasttext.similarity('아이언맨', '스파이더맨')}\")\n"
   ]
  },
  {
   "cell_type": "code",
   "execution_count": null,
   "id": "32725eaa",
   "metadata": {},
   "outputs": [],
   "source": [
    "# 단어 벡터 시각화\n",
    "\n",
    "from sklearn.decomposition import PCA\n",
    "\n",
    "words = [\n",
    "    '사과',\n",
    "    '바나나',\n",
    "    '오렌지',\n",
    "    '키위',\n",
    "    '스파이더맨', \n",
    "    '아이언맨', \n",
    "    '헐크',\n",
    "    '타노스',\n",
    "    '캡틴아메리카',\n",
    "    '어벤져스'\n",
    "]\n",
    "# matplotplib 폰트 설정을 안해서 그래프에서 한국어 라벨이 깨져서 아래 단어로 임시처리했습니다. ㅠ\n",
    "word_labels = [\n",
    "    'apple',\n",
    "    'banana',\n",
    "    'orange',\n",
    "    'kiwi',\n",
    "    'spider man', \n",
    "    'iron man', \n",
    "    'hulk',\n",
    "    'thanos',\n",
    "    'captin america',\n",
    "    'avengers'\n",
    "]\n",
    "pca = PCA(n_components=2)\n",
    "xys = pca.fit_transform([m_fasttext.wv.word_vec(w) for w in words])\n",
    "xs = xys[:,0]\n",
    "ys = xys[:,1]\n",
    "plt.figure(figsize=(14, 10))\n",
    "plt.scatter(xs, ys, marker='o')\n",
    "for i, v in enumerate(word_labels):\n",
    "    plt.annotate(v, xy=(xs[i], ys[i]))\n"
   ]
  },
  {
   "cell_type": "markdown",
   "id": "0df98cad",
   "metadata": {},
   "source": [
    "# 비교\n",
    "- print(vectors.similarity(\"cat\", \"dog\"))\n",
    "- print(vectors.most_similar(\"cat\", topn=100))\n"
   ]
  },
  {
   "cell_type": "markdown",
   "id": "b061e624",
   "metadata": {},
   "source": [
    "# 유사도 비교 함수 "
   ]
  },
  {
   "cell_type": "code",
   "execution_count": null,
   "id": "298ac59e",
   "metadata": {},
   "outputs": [],
   "source": [
    "def similarity(word1, word2):\n",
    "    return m_fasttext.wv.similarity(word1, word2)"
   ]
  },
  {
   "cell_type": "markdown",
   "id": "e7a5e327",
   "metadata": {},
   "source": [
    "# Wrapping The model in Rest API\n",
    "- service.py 생성"
   ]
  },
  {
   "cell_type": "code",
   "execution_count": null,
   "id": "1f63358f",
   "metadata": {},
   "outputs": [],
   "source": [
    "from flask import Flask, request\n",
    "from model import similarity\n",
    "app = Flask(__name__)\n",
    "\n",
    "@app.route(\"/\", methods=['GET'])\n",
    "def welcome():\n",
    "    return \"Welcome to our Machine Learning REST API!\"\n",
    "\n",
    "@app.route(\"/similarity\", methods=['GET'])\n",
    "def similarity_route():\n",
    "    word1 = request.args.get(\"word1\")\n",
    "    word2 = request.args.get(\"word2\")\n",
    "    return str(similarity(word1, word2))\n",
    "if __name__ == \"__main__\":\n",
    "    app.run(host='0.0.0.0', port=8000, debug=True)"
   ]
  },
  {
   "cell_type": "markdown",
   "id": "c5c34be9",
   "metadata": {},
   "source": [
    "# Dockerizing The Appliaction"
   ]
  },
  {
   "cell_type": "markdown",
   "id": "7b45c31c",
   "metadata": {},
   "source": [
    "#### 도커 컨테이너는 코드가 작동하는데 필요한 모든 종속성을 포함하는 자급자족 어플\n",
    "#### 여러 시스템을 배포하고 테스트 하는데 편리\n",
    "#### 운영체제 계층에서만 가상화 하기 떄문에 가벼움 -> 하드웨어 단까지 안함\n",
    "\n",
    "- touch Dockerfile"
   ]
  },
  {
   "cell_type": "markdown",
   "id": "42bfd599",
   "metadata": {},
   "source": [
    "### 도커 파일에 현제 위치 인식 시키고 파이썬 dependency 설치\n",
    "- WORKDIR /\n",
    "- ADD requirements.txt /\n",
    "- RUN pip install -r requirements.txt"
   ]
  },
  {
   "cell_type": "markdown",
   "id": "02b5bd05",
   "metadata": {},
   "source": [
    "- RUN apt install wget\n",
    "- RUN wget http://magnitude.plasticity.ai/word2vec/GoogleNews-vectors-negative300.magnitude\n"
   ]
  },
  {
   "cell_type": "markdown",
   "id": "52afc9dd",
   "metadata": {},
   "source": [
    "- CMD [ \"python\", \"./service.py\" ]"
   ]
  },
  {
   "cell_type": "markdown",
   "id": "4a969d53",
   "metadata": {},
   "source": [
    "# Running the Dockerized Application \n",
    "\n",
    "- -t flag to create a name for our image and . tell Docker our Dokcekr is in our current directory\n",
    "- docker build -t model .\n"
   ]
  },
  {
   "cell_type": "markdown",
   "id": "aff692e6",
   "metadata": {},
   "source": [
    "- docker run -p 8000:8000 model\n"
   ]
  },
  {
   "cell_type": "markdown",
   "id": "de0bda75",
   "metadata": {},
   "source": [
    "- curl -X GET 'http://localhost:8000/similarity?word1=dog&word2=cat'"
   ]
  }
 ],
 "metadata": {
  "kernelspec": {
   "display_name": "new",
   "language": "python",
   "name": "new"
  },
  "language_info": {
   "codemirror_mode": {
    "name": "ipython",
    "version": 3
   },
   "file_extension": ".py",
   "mimetype": "text/x-python",
   "name": "python",
   "nbconvert_exporter": "python",
   "pygments_lexer": "ipython3",
   "version": "3.8.13"
  }
 },
 "nbformat": 4,
 "nbformat_minor": 5
}
