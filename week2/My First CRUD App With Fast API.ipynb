{
 "cells": [
  {
   "cell_type": "code",
   "execution_count": null,
   "id": "d8a6148d",
   "metadata": {},
   "outputs": [],
   "source": [
    "from IPython.display import Image"
   ]
  },
  {
   "cell_type": "markdown",
   "id": "cde96663",
   "metadata": {},
   "source": [
    "# CREATE READ UPDATE DELETE"
   ]
  },
  {
   "cell_type": "markdown",
   "id": "34304f47",
   "metadata": {},
   "source": [
    "MERN -> Mongo, Express, React, Node.js"
   ]
  },
  {
   "cell_type": "markdown",
   "id": "fbdd734b",
   "metadata": {},
   "source": [
    "# 설치 "
   ]
  },
  {
   "cell_type": "markdown",
   "id": "cde57f8a",
   "metadata": {},
   "source": [
    "! pip install fastapi "
   ]
  },
  {
   "cell_type": "code",
   "execution_count": null,
   "id": "cb3f7fd9",
   "metadata": {},
   "outputs": [],
   "source": [
    "# First APP\n",
    "# pip install uvicorn"
   ]
  },
  {
   "cell_type": "markdown",
   "id": "371d40f3",
   "metadata": {},
   "source": [
    "#  FristApi.py 파일 있습니다"
   ]
  },
  {
   "cell_type": "code",
   "execution_count": null,
   "id": "f3f32166",
   "metadata": {},
   "outputs": [],
   "source": [
    "from fastapi import FastAPI\n",
    "app = FastAPI()\n",
    "@app.get(\"/\")\n",
    "def getItems():\n",
    "    return ['Item 1', 'Item 2', 'Item 3']"
   ]
  },
  {
   "cell_type": "markdown",
   "id": "3face747",
   "metadata": {},
   "source": [
    "# 실행 방법 \n",
    "- uvicorn main:app --reload\n",
    "\n",
    "## 확인 방법 \n",
    "- http://127.0.0.1:8000/\n",
    "\n",
    "### swagger UI\n",
    "- http://127.0.0.1:8000/docs#/default/getItems__get"
   ]
  },
  {
   "cell_type": "code",
   "execution_count": null,
   "id": "fc2dd415",
   "metadata": {},
   "outputs": [],
   "source": [
    "Image('./image/firstatpi2.png')"
   ]
  },
  {
   "cell_type": "code",
   "execution_count": null,
   "id": "1d3b4d26",
   "metadata": {
    "scrolled": true
   },
   "outputs": [],
   "source": [
    "Image('./image/firstapi1.png')"
   ]
  },
  {
   "cell_type": "markdown",
   "id": "afe89092",
   "metadata": {},
   "source": [
    "# fake dataset"
   ]
  },
  {
   "cell_type": "code",
   "execution_count": null,
   "id": "c03c7426",
   "metadata": {},
   "outputs": [],
   "source": [
    "fakeDatabase = {\n",
    "    1: {'task': 'Clean car'},\n",
    "    2: {'task': 'Clean my room'},\n",
    "    3: {'task': 'Clean my computer'},\n",
    "        \n",
    "}"
   ]
  },
  {
   "cell_type": "markdown",
   "id": "1f3a00eb",
   "metadata": {},
   "source": [
    "# GET Path Parameters"
   ]
  },
  {
   "cell_type": "code",
   "execution_count": null,
   "id": "833c6d2f",
   "metadata": {},
   "outputs": [],
   "source": [
    "@app.get(\"/{id}\")\n",
    "def getItem(id:int):\n",
    "    return fakeDatabase[id]"
   ]
  },
  {
   "cell_type": "markdown",
   "id": "ebe4dd42",
   "metadata": {},
   "source": [
    "# Post PUT and Delete Requests"
   ]
  },
  {
   "cell_type": "code",
   "execution_count": null,
   "id": "86cc031c",
   "metadata": {},
   "outputs": [],
   "source": [
    "#Option # 1\n",
    "@app.post(\"/\")\n",
    "def addItem(task:str):\n",
    "    newId = len(fakeDatabase.keys()) + 1\n",
    "    fakeDatabase[newId] = {\"task\":task}\n",
    "    return fakeDatabase"
   ]
  },
  {
   "cell_type": "markdown",
   "id": "f8b6072d",
   "metadata": {},
   "source": [
    "# 만약... task 뿐만 아니라 여러 컬럼이 있으면 ?\n",
    "addItem(“task”:str, “priority”:”str”, “rank”:int, ..........)\n",
    "이걸 다해 ? 노노"
   ]
  },
  {
   "cell_type": "markdown",
   "id": "71a21ae9",
   "metadata": {},
   "source": [
    "# 설치 \n",
    "- pip install pydantic"
   ]
  },
  {
   "cell_type": "markdown",
   "id": "0d226e75",
   "metadata": {},
   "source": [
    "# Create schemas.py"
   ]
  },
  {
   "cell_type": "code",
   "execution_count": null,
   "id": "bb10277a",
   "metadata": {},
   "outputs": [],
   "source": [
    "from pydantic import BaseModel\n",
    "class Item(BaseModel):\n",
    "    task: str"
   ]
  },
  {
   "cell_type": "markdown",
   "id": "df21686d",
   "metadata": {},
   "source": [
    "# 수정 방법 1"
   ]
  },
  {
   "cell_type": "code",
   "execution_count": null,
   "id": "99c5156c",
   "metadata": {},
   "outputs": [],
   "source": [
    "from fastapi import FastAPI\n",
    "import schemas\n",
    "\n",
    "\n",
    "#Option # 2\n",
    "@app.post(\"/\")\n",
    "def addItem(item:schemas.Item):\n",
    "    newId = len(fakeDatabase.keys()) + 1\n",
    "    fakeDatabase[newId] = {\"task\":item.task}\n",
    "    return fakeDatabase"
   ]
  },
  {
   "cell_type": "markdown",
   "id": "a00e6418",
   "metadata": {},
   "source": [
    "# 수정 방법 2"
   ]
  },
  {
   "cell_type": "markdown",
   "id": "49547fa9",
   "metadata": {},
   "source": [
    "- we can then access the request body as a dictionary and extract the value of the task"
   ]
  },
  {
   "cell_type": "code",
   "execution_count": null,
   "id": "0715176c",
   "metadata": {},
   "outputs": [],
   "source": [
    "from fastapi import FastAPI, Body\n",
    "#Option #3\n",
    "@app.post(\"/\")\n",
    "def addItem(body = Body()):\n",
    "   newId = len(fakeDatabase.keys()) + 1\n",
    "   fakeDatabase[newId] = {\"task\":body['task']}\n",
    "   return fakeDatabase\n"
   ]
  },
  {
   "cell_type": "markdown",
   "id": "b361d733",
   "metadata": {},
   "source": [
    "# updating Data"
   ]
  },
  {
   "cell_type": "code",
   "execution_count": null,
   "id": "55ab73fe",
   "metadata": {},
   "outputs": [],
   "source": [
    "@app.put(\"/{id}\")\n",
    "def updateItem(id:int, item:schemas.Item):\n",
    "    fakeDatabase[id]['task'] = item.task \n",
    "    return fakeDatabase\n"
   ]
  },
  {
   "cell_type": "markdown",
   "id": "2f4c4dbe",
   "metadata": {},
   "source": [
    "# Deleting Data"
   ]
  },
  {
   "cell_type": "code",
   "execution_count": null,
   "id": "9fb2c860",
   "metadata": {},
   "outputs": [],
   "source": [
    "@app.delete(\"/{id}\")\n",
    "def deleteItem(id:int):\n",
    "    del fakeDatabase[id]\n",
    "    return fakeDatabase\n"
   ]
  },
  {
   "cell_type": "markdown",
   "id": "450e5106",
   "metadata": {},
   "source": [
    "# Database and Models\n"
   ]
  },
  {
   "cell_type": "markdown",
   "id": "370afffe",
   "metadata": {},
   "source": [
    "# 설치 \n",
    "!pip install sqlalchemy"
   ]
  },
  {
   "cell_type": "code",
   "execution_count": null,
   "id": "4cdc4ab6",
   "metadata": {},
   "outputs": [],
   "source": [
    "# database.py"
   ]
  },
  {
   "cell_type": "markdown",
   "id": "2d57886c",
   "metadata": {},
   "source": [
    "# connection configure"
   ]
  },
  {
   "cell_type": "code",
   "execution_count": null,
   "id": "6d24da67",
   "metadata": {},
   "outputs": [],
   "source": [
    "from sqlalchemy import create_engine\n",
    "from sqlalchemy.ext.declarative import declarative_base\n",
    "from sqlalchemy.orm import sessionmaker\n",
    "#Create sqlite engine instance\n",
    "engine = create_engine(\"sqlite:///todo.db\")\n",
    "#Create declaritive base meta instance\n",
    "Base = declarative_base()\n",
    "#Create session local class for session maker\n",
    "SessionLocal = sessionmaker(bind=engine, expire_on_commit=False)"
   ]
  },
  {
   "cell_type": "code",
   "execution_count": null,
   "id": "ef639628",
   "metadata": {},
   "outputs": [],
   "source": [
    "# models.py"
   ]
  },
  {
   "cell_type": "code",
   "execution_count": null,
   "id": "369dcc5f",
   "metadata": {},
   "outputs": [],
   "source": [
    "from sqlalchemy import Column, Integer, String\n",
    "from database import Base\n",
    "class Item(Base):\n",
    "    __tablename__ = 'items'\n",
    "    id = Column(Integer, primary_key=True)\n",
    "    task = Column(String(256))"
   ]
  },
  {
   "cell_type": "markdown",
   "id": "512e5e75",
   "metadata": {},
   "source": [
    "# 연결 방법"
   ]
  },
  {
   "cell_type": "code",
   "execution_count": null,
   "id": "9a5d4fa7",
   "metadata": {},
   "outputs": [],
   "source": [
    "\n",
    "#main.py\n",
    "from fastapi import FastAPI,Body, Depends\n",
    "import schemas\n",
    "import models\n",
    "from database import Base, engine, SessionLocal\n",
    "from sqlalchemy.orm import Session\n",
    "#This will create our database if it doesent already exists\n",
    "Base.metadata.create_all(engine)\n",
    "def get_session():\n",
    "    session = SessionLocal()\n",
    "    try:\n",
    "        yield session\n",
    "    finally:\n",
    "        session.close()"
   ]
  },
  {
   "cell_type": "markdown",
   "id": "a3d17167",
   "metadata": {},
   "source": [
    "# Working with our databse"
   ]
  },
  {
   "cell_type": "code",
   "execution_count": null,
   "id": "edd8036f",
   "metadata": {},
   "outputs": [],
   "source": [
    "@app.get(\"/\")\n",
    "def getItems(session: Session = Depends(get_session)):\n",
    "    items = session.query(models.Item).all()\n",
    "    return items"
   ]
  },
  {
   "cell_type": "code",
   "execution_count": null,
   "id": "6d282241",
   "metadata": {},
   "outputs": [],
   "source": [
    "# add item\n",
    "\n",
    "@app.post(\"/\")\n",
    "def addItem(item:schemas.Item, session = Depends(get_session)):\n",
    "    item = models.Item(task = item.task)\n",
    "    session.add(item)\n",
    "    session.commit()\n",
    "    session.refresh(item)\n",
    "    return item"
   ]
  },
  {
   "cell_type": "code",
   "execution_count": null,
   "id": "64fb918e",
   "metadata": {},
   "outputs": [],
   "source": [
    "# retrieve single item \n",
    "@app.get(\"/{id}\")\n",
    "def getItem(id:int, session: Session = Depends(get_session)):\n",
    "    item = session.query(models.Item).get(id)\n",
    "    return item"
   ]
  },
  {
   "cell_type": "code",
   "execution_count": null,
   "id": "0f57b037",
   "metadata": {},
   "outputs": [],
   "source": [
    "# update \n",
    "@app.put(\"/{id}\")\n",
    "def updateItem(id:int, item:schemas.Item, session = Depends(get_session)):\n",
    "    itemObject = session.query(models.Item).get(id)\n",
    "    itemObject.task = item.task\n",
    "    session.commit()\n",
    "    return itemObject"
   ]
  },
  {
   "cell_type": "code",
   "execution_count": null,
   "id": "3e5db215",
   "metadata": {},
   "outputs": [],
   "source": [
    "@app.delete(\"/{id}\")\n",
    "def deleteItem(id:int, session = Depends(get_session)):\n",
    "    itemObject = session.query(models.Item).get(id)\n",
    "    session.delete(itemObject)\n",
    "    session.commit()\n",
    "    session.close()\n",
    "    return 'Item was deleted'\n"
   ]
  }
 ],
 "metadata": {
  "kernelspec": {
   "display_name": "new",
   "language": "python",
   "name": "new"
  },
  "language_info": {
   "codemirror_mode": {
    "name": "ipython",
    "version": 3
   },
   "file_extension": ".py",
   "mimetype": "text/x-python",
   "name": "python",
   "nbconvert_exporter": "python",
   "pygments_lexer": "ipython3",
   "version": "3.8.13"
  }
 },
 "nbformat": 4,
 "nbformat_minor": 5
}
