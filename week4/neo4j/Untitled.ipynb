{
 "cells": [
  {
   "cell_type": "code",
   "execution_count": 1,
   "id": "f19cfaac",
   "metadata": {
    "scrolled": true
   },
   "outputs": [
    {
     "name": "stdout",
     "output_type": "stream",
     "text": [
      "Collecting neo4j\n",
      "  Downloading neo4j-5.0.0.tar.gz (172 kB)\n",
      "     |████████████████████████████████| 172 kB 4.8 MB/s            \n",
      "\u001b[?25h  Preparing metadata (setup.py) ... \u001b[?25ldone\n",
      "\u001b[?25hRequirement already satisfied: pytz in /opt/homebrew/Caskroom/miniforge/base/lib/python3.9/site-packages (from neo4j) (2021.3)\n",
      "Building wheels for collected packages: neo4j\n",
      "  Building wheel for neo4j (setup.py) ... \u001b[?25ldone\n",
      "\u001b[?25h  Created wheel for neo4j: filename=neo4j-5.0.0-py3-none-any.whl size=247105 sha256=2da3da3531a93c16c1536c8a885902bb22be4e8943583cf0bfe14ff07ac00b5d\n",
      "  Stored in directory: /Users/flycode77/Library/Caches/pip/wheels/6b/ef/b0/960047d420560e760a9a9b63215992a117b72e57671a4e769a\n",
      "Successfully built neo4j\n",
      "Installing collected packages: neo4j\n",
      "Successfully installed neo4j-5.0.0\n"
     ]
    }
   ],
   "source": [
    "!pip install neo4j"
   ]
  },
  {
   "cell_type": "code",
   "execution_count": 2,
   "id": "2eb2ef25",
   "metadata": {},
   "outputs": [],
   "source": [
    "import requests\n",
    "from bs4 import BeautifulSoup as BS\n",
    "import pandas as pd\n",
    "import numpy as np\n",
    "import re\n",
    "\n",
    "\"\"\" 네이버 랭킹 뉴스 긁어오기 \"\"\"\n",
    "headers = {'User-Agent': 'Mozilla/5.0 (Windows NT 10.0; Win64; x64) AppleWebKit/537.36 (KHTML, like Gecko) Chrome/84.0.4147.135 Safari/537.36'}\n",
    "d_list = []\n",
    "start_data = 20210201\n",
    "end_data = 20210228\n",
    "for date_int in range(start_data, end_data):\n",
    "    date = str(date_int)\n",
    "    url = \"https://news.naver.com/main/ranking/popularDay.nhn?date=\" + date\n",
    "    html = requests.get(url, headers=headers).text\n",
    "    soup = BS(html, 'html.parser')\n",
    "    ranking_total = soup.find_all(class_='rankingnews_box')\n",
    "\n",
    "    for item in ranking_total:\n",
    "        media = item.a.strong.text\n",
    "        news = item.find_all(class_=\"list_content\")\n",
    "        for new in news:\n",
    "            d = {}\n",
    "            d['media'] = media\n",
    "            d['src'] = \"https://news.naver.com/\" + new.a['href']\n",
    "            d['title'] = new.a.text\n",
    "            d['date'] = date\n",
    "            d_list.append(d)\n",
    "df = pd.DataFrame(d_list)"
   ]
  },
  {
   "cell_type": "code",
   "execution_count": 2,
   "id": "929cc285",
   "metadata": {},
   "outputs": [],
   "source": [
    "import requests\n",
    "from bs4 import BeautifulSoup as BS\n",
    "import pandas as pd\n",
    "import numpy as np\n",
    "import re"
   ]
  },
  {
   "cell_type": "code",
   "execution_count": 3,
   "id": "6d104cee",
   "metadata": {},
   "outputs": [],
   "source": [
    "df = pd.read_csv('a1_action_log_202209131336.csv')"
   ]
  },
  {
   "cell_type": "code",
   "execution_count": 6,
   "id": "f1b3918e",
   "metadata": {},
   "outputs": [],
   "source": [
    "df = df.sample(10000)"
   ]
  },
  {
   "cell_type": "code",
   "execution_count": 7,
   "id": "9817a32f",
   "metadata": {},
   "outputs": [],
   "source": [
    "df.columns = ['media', 'src', 'title', 'date']"
   ]
  },
  {
   "cell_type": "code",
   "execution_count": 8,
   "id": "8c83d001",
   "metadata": {},
   "outputs": [],
   "source": [
    "media = ['가구', '주방용품', '패브릭', '데코·식물', '가전', '수납·정리', '생활용품', '조명', '공구·DIY',\n",
    "       '반려동물', '캠핑용품', '유아·아동', '생필품', '실내운동', '인테리어시공']"
   ]
  },
  {
   "cell_type": "code",
   "execution_count": 9,
   "id": "faa44f0b",
   "metadata": {},
   "outputs": [],
   "source": [
    "df = df[df['media'].isin(media)]"
   ]
  },
  {
   "cell_type": "code",
   "execution_count": 10,
   "id": "0138ff82",
   "metadata": {},
   "outputs": [],
   "source": [
    "\"\"\" 필요 없는 문자 제거 \"\"\"\n",
    "def clean_text(row):\n",
    "    text = row['title']\n",
    "    pattern = '([a-zA-Z0-9_.+-]+@[a-zA-Z0-9-]+\\.[a-zA-Z0-9-.]+)'\n",
    "    text = re.sub(pattern=pattern, repl='', string=text)\n",
    "    # print(\"E-mail제거 : \" , text , \"\\n\")\n",
    "    pattern = '(http|ftp|https)://(?:[-\\w.]|(?:%[\\da-fA-F]{2}))+'\n",
    "    text = re.sub(pattern=pattern, repl='', string=text)\n",
    "    # print(\"URL 제거 : \", text , \"\\n\")\n",
    "    pattern = '([ㄱ-ㅎㅏ-ㅣ]+)'\n",
    "    text = re.sub(pattern=pattern, repl='', string=text)\n",
    "    # print(\"한글 자음 모음 제거 : \", text , \"\\n\")\n",
    "    pattern = '<[^>]*>'\n",
    "    text = re.sub(pattern=pattern, repl='', string=text)\n",
    "    # print(\"태그 제거 : \" , text , \"\\n\")\n",
    "    pattern = r'\\([^)]*\\)'\n",
    "    text = re.sub(pattern=pattern, repl='', string=text)\n",
    "    # print(\"괄호와 괄호안 글자 제거 :  \" , text , \"\\n\")\n",
    "    pattern = '[^\\w\\s]'\n",
    "    text = re.sub(pattern=pattern, repl='', string=text)\n",
    "    # print(\"특수기호 제거 : \", text , \"\\n\" )\n",
    "    pattern = '[^\\w\\s]'\n",
    "    text = re.sub(pattern=pattern, repl='', string=text)\n",
    "    # print(\"필요없는 정보 제거 : \", text , \"\\n\" )\n",
    "    pattern = '[\"단독\"]'\n",
    "    text = re.sub(pattern=pattern, repl='', string=text)\n",
    "    pattern = '[\"속보\"]'\n",
    "    text = re.sub(pattern=pattern, repl='', string=text)\n",
    "    # print(\"단독 속보 제거 : \", text , \"\\n\" )\n",
    "    text = text.strip()\n",
    "    # print(\"양 끝 공백 제거 : \", text , \"\\n\" )\n",
    "    text = \" \".join(text.split())\n",
    "    # print(\"중간에 공백은 1개만 : \", text )\n",
    "    return text\n",
    "\n",
    "df['title_c'] = df.apply(clean_text, axis=1)\n"
   ]
  },
  {
   "cell_type": "code",
   "execution_count": 11,
   "id": "dce6f669",
   "metadata": {},
   "outputs": [],
   "source": [
    "\"\"\" 키워드 추출 from title \"\"\"\n",
    "from konlpy.tag import Kkma\n",
    "from konlpy.tag import Komoran\n",
    "\n",
    "kkma = Kkma()\n",
    "komoran = Komoran()\n",
    "df['keyword'] = ''\n",
    "\n",
    "df = df.reset_index(drop=True)\n",
    "for idx_line in range(len(df)):\n",
    "    try:\n",
    "        nouns_list = komoran.nouns(df['title_c'].loc[idx_line])\n",
    "    except:\n",
    "        continue\n",
    "    nouns_list_c = [nouns for nouns in nouns_list if len(nouns) > 1]    # 한글자는 이상한게 많아서 2글자 이상\n",
    "    df.loc[idx_line]['keyword'] = set(nouns_list_c)\n",
    "df = df[df['media'] != '코리아헤럴드']    # 코리아헤럴드는 영어 제목임\n",
    "df = df[df['media'] != '주간경향']    # 주간경향은 같은 title이 많음"
   ]
  },
  {
   "cell_type": "code",
   "execution_count": 12,
   "id": "e249f9cf",
   "metadata": {},
   "outputs": [],
   "source": [
    "from neo4j import GraphDatabase\n",
    "\n",
    "\n",
    "\"\"\" make node & relationship\"\"\"\n",
    "def add_article(tx, title, date, media, keyword):\n",
    "    tx.run(\"MERGE (a:Article {title: $title , date: $date, media: $media, keyword: $keyword})\",\n",
    "           title=title, date=date, media=media, keyword=keyword)\n",
    "\n",
    "\n",
    "def add_media(tx):\n",
    "    tx.run(\"MATCH (a:Article) \"\n",
    "           \"MERGE (b:Media {name:a.media}) \"\n",
    "           \"MERGE (a)<-[r:Publish]-(b)\")\n",
    "\n",
    "\n",
    "def add_keyword(tx):\n",
    "    tx.run(\"MATCH (a:Article) \"\n",
    "           \"UNWIND a.keyword as k \"\n",
    "           \"MERGE (b:Keyword {name:k}) \"\n",
    "           \"MERGE (a)-[r:Include]->(b)\")\n",
    "\n",
    "\n",
    "\n",
    "\"\"\" 한자와 공백 제거 \"\"\"\n",
    "# Neo4j -> Gephi 에서 parsing error의 원인이 될 수 있음\n",
    "def clean_text_for_neo4j(row):\n",
    "    text = row['title_c']\n",
    "    text = re.sub(pattern='[^a-zA-Z0-9ㄱ-ㅣ가-힣]', repl='', string=text)\n",
    "    # print(\"영어, 숫자, 한글만 포함 : \", text )\n",
    "    return text\n",
    "\n",
    "df['title_c_neo4j'] = df.apply(clean_text_for_neo4j, axis=1)"
   ]
  },
  {
   "cell_type": "code",
   "execution_count": 13,
   "id": "b57e0b17",
   "metadata": {},
   "outputs": [],
   "source": [
    "\"\"\" 연결 \"\"\"\n",
    "# Neo4j 브라우저에서 설정한 계정의 ID, PASSWORD를 통해 접속\n",
    "greeter = GraphDatabase.driver(\"bolt://localhost:7687\", auth=(\"test\", \"qwer9514@@\"))  "
   ]
  },
  {
   "cell_type": "code",
   "execution_count": 15,
   "id": "9575c8ed",
   "metadata": {},
   "outputs": [
    {
     "name": "stderr",
     "output_type": "stream",
     "text": [
      "/var/folders/2r/_fr309ls60x8zpqkcdvzvn940000gn/T/ipykernel_59180/2118516796.py:6: DeprecationWarning: write_transaction has been renamed to execute_write\n",
      "  session.write_transaction(add_article, title=df.iloc[idx]['title_c_neo4j'], date=df.iloc[idx]['date'],\n",
      "/var/folders/2r/_fr309ls60x8zpqkcdvzvn940000gn/T/ipykernel_59180/2118516796.py:8: DeprecationWarning: write_transaction has been renamed to execute_write\n",
      "  session.write_transaction(add_media)\n",
      "/var/folders/2r/_fr309ls60x8zpqkcdvzvn940000gn/T/ipykernel_59180/2118516796.py:9: DeprecationWarning: write_transaction has been renamed to execute_write\n",
      "  session.write_transaction(add_keyword)\n"
     ]
    }
   ],
   "source": [
    "\n",
    "\"\"\" 입력 \"\"\"\n",
    "# Cyper code를 이용,  크롤링한 Data를 DB에 입력\n",
    "with greeter.session() as session:\n",
    "    \"\"\" make node \"\"\"\n",
    "    for idx in range(len(df)):\n",
    "        session.write_transaction(add_article, title=df.iloc[idx]['title_c_neo4j'], date=df.iloc[idx]['date'],\n",
    "                                  media=df.iloc[idx]['media'], keyword=list(df.iloc[idx]['keyword']))\n",
    "    session.write_transaction(add_media)\n",
    "    session.write_transaction(add_keyword)"
   ]
  },
  {
   "cell_type": "code",
   "execution_count": null,
   "id": "8eca2632",
   "metadata": {},
   "outputs": [],
   "source": []
  }
 ],
 "metadata": {
  "kernelspec": {
   "display_name": "new",
   "language": "python",
   "name": "new"
  },
  "language_info": {
   "codemirror_mode": {
    "name": "ipython",
    "version": 3
   },
   "file_extension": ".py",
   "mimetype": "text/x-python",
   "name": "python",
   "nbconvert_exporter": "python",
   "pygments_lexer": "ipython3",
   "version": "3.8.13"
  }
 },
 "nbformat": 4,
 "nbformat_minor": 5
}
