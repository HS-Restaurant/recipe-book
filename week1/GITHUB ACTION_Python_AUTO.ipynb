{
 "cells": [
  {
   "cell_type": "markdown",
   "id": "30a5e777",
   "metadata": {},
   "source": [
    "# 데이터 가져오는곳"
   ]
  },
  {
   "cell_type": "code",
   "execution_count": null,
   "id": "7db71327",
   "metadata": {},
   "outputs": [],
   "source": [
    "import pandas as pd\n",
    "url = 'https://raw.githubusercontent.com/lukes/ISO-3166-Countries-with-Regional-Codes/master/all/all.csv'\n",
    "df = pd.read_csv(url, index_col=0)\n",
    "\n",
    "file_name = str(int(random.random()*10000)) + \"_df.csv\"\n",
    "df.to_csv(file_name,index = False)\n"
   ]
  },
  {
   "cell_type": "markdown",
   "id": "1a6b70fb",
   "metadata": {},
   "source": [
    "https://aramir.notion.site/GITHUB-ACTION_JUPYTER-AUTO-1-8a271126c64f4dda87d069e6063b784d"
   ]
  },
  {
   "cell_type": "markdown",
   "id": "4d28bca3",
   "metadata": {},
   "source": [
    "# 보고 잘 부탁드리겠습니다 ㅠ"
   ]
  },
  {
   "cell_type": "markdown",
   "id": "42834404",
   "metadata": {},
   "source": [
    "# 다음주에 할 것 \n",
    "Deploying Iris Classifications with FastAPI and Docker"
   ]
  },
  {
   "cell_type": "code",
   "execution_count": null,
   "id": "669c0fe1",
   "metadata": {},
   "outputs": [],
   "source": []
  }
 ],
 "metadata": {
  "kernelspec": {
   "display_name": "new",
   "language": "python",
   "name": "new"
  },
  "language_info": {
   "codemirror_mode": {
    "name": "ipython",
    "version": 3
   },
   "file_extension": ".py",
   "mimetype": "text/x-python",
   "name": "python",
   "nbconvert_exporter": "python",
   "pygments_lexer": "ipython3",
   "version": "3.8.13"
  }
 },
 "nbformat": 4,
 "nbformat_minor": 5
}
